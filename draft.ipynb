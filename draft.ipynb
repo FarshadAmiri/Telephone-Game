{
 "cells": [
  {
   "cell_type": "code",
   "execution_count": 1,
   "id": "c8d4c460",
   "metadata": {},
   "outputs": [],
   "source": [
    "import numpy as np\n",
    "import random"
   ]
  },
  {
   "cell_type": "code",
   "execution_count": 25,
   "id": "3e52a7d2",
   "metadata": {},
   "outputs": [
    {
     "name": "stdout",
     "output_type": "stream",
     "text": [
      "{0: 0.7735624093946908, 1: 0.2536621677266897, 2: 0.5912145271675213, 3: 0.5677388681870507, 4: 0.7284566822866103, 5: 0.8019863869565667, 6: 0.1554301143012372, 7: 0.9365660424818083, 8: 0.33409149862340304, 9: 0.13664014570294236}\n"
     ]
    },
    {
     "data": {
      "text/plain": [
       "{0: 0.7735624093946908,\n",
       " 1: 0.2536621677266897,\n",
       " 2: 0.5912145271675213,\n",
       " 3: 0.5677388681870507,\n",
       " 4: 0.7284566822866103,\n",
       " 5: 0.8019863869565667,\n",
       " 6: 0.1554301143012372,\n",
       " 7: 0.9365660424818083,\n",
       " 8: 0.33409149862340304,\n",
       " 9: 0.13664014570294236}"
      ]
     },
     "execution_count": 25,
     "metadata": {},
     "output_type": "execute_result"
    }
   ],
   "source": [
    "scores = {i: random.uniform(0, 1) for i in range(10)}\n",
    "print(scores)\n",
    "clipped_scores = {i: float(np.clip(s, 0, 1)) for i, s in scores.items()}\n",
    "clipped_scores"
   ]
  },
  {
   "cell_type": "code",
   "execution_count": 19,
   "id": "9fc9c264",
   "metadata": {},
   "outputs": [
    {
     "data": {
      "text/plain": [
       "{0: 0.758587948177437,\n",
       " 1: 0.8000795593959737,\n",
       " 2: 0.7816376984851621,\n",
       " 3: 0.36384597308994404,\n",
       " 4: 0.40260924639190676,\n",
       " 5: 0.9881684524448344,\n",
       " 6: 0.2155053833618873,\n",
       " 7: 0.5157298790552811,\n",
       " 8: 0.628461084798142,\n",
       " 9: 0.17407532879240162}"
      ]
     },
     "execution_count": 19,
     "metadata": {},
     "output_type": "execute_result"
    }
   ],
   "source": [
    "scores"
   ]
  },
  {
   "cell_type": "code",
   "execution_count": 24,
   "id": "0d31507f",
   "metadata": {},
   "outputs": [
    {
     "name": "stdout",
     "output_type": "stream",
     "text": [
      "{0: 0.758587948177437, 1: 0.8000795593959737, 2: 0.7816376984851621, 3: 0.36384597308994404, 4: 0.40260924639190676, 5: 0.9881684524448344, 6: 0.2155053833618873, 7: 0.5157298790552811, 8: 0.628461084798142, 9: 0.17407532879240162}\n",
      "0 0.758587948177437\n",
      "0.758587948177437\n",
      "1 0.8000795593959737\n",
      "0.8000795593959737\n",
      "2 0.7816376984851621\n",
      "0.7816376984851621\n",
      "3 0.36384597308994404\n",
      "0.36384597308994404\n",
      "4 0.40260924639190676\n",
      "0.40260924639190676\n",
      "5 0.9881684524448344\n",
      "0.9881684524448344\n",
      "6 0.2155053833618873\n",
      "0.2155053833618873\n",
      "7 0.5157298790552811\n",
      "0.5157298790552811\n",
      "8 0.628461084798142\n",
      "0.628461084798142\n",
      "9 0.17407532879240162\n",
      "0.17407532879240162\n"
     ]
    }
   ],
   "source": [
    "print(scores)\n",
    "for i, s in scores.items():\n",
    "    print(i, s)\n",
    "    new_s = np.clip(s, 0, 1)\n",
    "    print(new_s)"
   ]
  },
  {
   "cell_type": "code",
   "execution_count": null,
   "id": "18c7765f",
   "metadata": {},
   "outputs": [],
   "source": []
  },
  {
   "cell_type": "code",
   "execution_count": null,
   "id": "d3b54395",
   "metadata": {},
   "outputs": [],
   "source": []
  },
  {
   "cell_type": "code",
   "execution_count": null,
   "id": "fffd0ce1",
   "metadata": {},
   "outputs": [],
   "source": []
  }
 ],
 "metadata": {
  "kernelspec": {
   "display_name": "Python 3 (ipykernel)",
   "language": "python",
   "name": "python3"
  },
  "language_info": {
   "codemirror_mode": {
    "name": "ipython",
    "version": 3
   },
   "file_extension": ".py",
   "mimetype": "text/x-python",
   "name": "python",
   "nbconvert_exporter": "python",
   "pygments_lexer": "ipython3",
   "version": "3.12.4"
  }
 },
 "nbformat": 4,
 "nbformat_minor": 5
}
